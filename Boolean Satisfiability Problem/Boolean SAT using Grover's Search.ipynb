{
 "cells": [
  {
   "cell_type": "code",
   "execution_count": 1,
   "id": "040510f8",
   "metadata": {},
   "outputs": [],
   "source": [
    "# Importing Necessary Libraries\n",
    "import numpy as np\n",
    "import matplotlib.pyplot as plt\n",
    "from qiskit.quantum_info import Statevector, Operator, DensityMatrix, ScalarOp\n",
    "from qiskit import QuantumCircuit, QuantumRegister, assemble, Aer, transpile\n",
    "from qiskit.tools.jupyter import *\n",
    "from qiskit.tools.monitor import job_monitor\n",
    "from qiskit.visualization import plot_histogram"
   ]
  },
  {
   "cell_type": "code",
   "execution_count": 2,
   "id": "5f2ad76e",
   "metadata": {},
   "outputs": [],
   "source": [
    "n = 5 # Number of variables in Boolean statement"
   ]
  },
  {
   "cell_type": "code",
   "execution_count": 3,
   "id": "4267055d",
   "metadata": {},
   "outputs": [],
   "source": [
    "# Problem Boolean Function\n",
    "def Query(bi):\n",
    "    K = []\n",
    "    for i in range(len(bi)):\n",
    "        K.append(int(bi[i]))\n",
    "    [a,b,c,d,e] = K\n",
    "    \n",
    "    fn = ((not c or (d and (not e)))and a and b) # Enter the Boolean Formulation here\n",
    "    \n",
    "    if fn==True:\n",
    "        return 1.0\n",
    "    else:\n",
    "        return 0.0"
   ]
  },
  {
   "cell_type": "code",
   "execution_count": 4,
   "id": "10693dfd",
   "metadata": {},
   "outputs": [],
   "source": [
    "# Function to generate a binary list\n",
    "def bin_list(n):\n",
    "    ans = ['0','1']\n",
    "    for i in range(n-1):\n",
    "        P1 = ['0' + ans[j] for j in range(0,2**(i+1))]\n",
    "        P2 = ['1' + ans[j] for j in range(0,2**(i+1))]\n",
    "        ans = P1 + P2\n",
    "    return ans"
   ]
  },
  {
   "cell_type": "code",
   "execution_count": 5,
   "id": "92e818f6",
   "metadata": {},
   "outputs": [],
   "source": [
    "# Generating Matrix for the Oracle Unitary\n",
    "def matrix(n):\n",
    "    # n = number of variables\n",
    "    bi = bin_list(n)\n",
    "    mat = np.eye(2**n)\n",
    "    index = 0\n",
    "    for i in bi:\n",
    "        k = Query(i)\n",
    "        if k==1.0:\n",
    "            mat[index,index] = -1\n",
    "        index+=1\n",
    "    return mat"
   ]
  },
  {
   "cell_type": "code",
   "execution_count": 6,
   "id": "e125a8a0",
   "metadata": {},
   "outputs": [
    {
     "data": {
      "text/plain": [
       "array([[ 1.,  0.,  0., ...,  0.,  0.,  0.],\n",
       "       [ 0.,  1.,  0., ...,  0.,  0.,  0.],\n",
       "       [ 0.,  0.,  1., ...,  0.,  0.,  0.],\n",
       "       ...,\n",
       "       [ 0.,  0.,  0., ...,  1.,  0.,  0.],\n",
       "       [ 0.,  0.,  0., ...,  0., -1.,  0.],\n",
       "       [ 0.,  0.,  0., ...,  0.,  0.,  1.]])"
      ]
     },
     "execution_count": 6,
     "metadata": {},
     "output_type": "execute_result"
    }
   ],
   "source": [
    "matrix(5)"
   ]
  },
  {
   "cell_type": "code",
   "execution_count": 7,
   "id": "23714f43",
   "metadata": {},
   "outputs": [],
   "source": [
    "# Creating Oracle fn for the problem\n",
    "def oracle(n):\n",
    "    ora = QuantumCircuit(n, name = \"Oracle\")\n",
    "    ora.unitary(matrix(n), [i for i in range(n)], label=\"Oracle\")\n",
    "    return ora"
   ]
  },
  {
   "cell_type": "code",
   "execution_count": 8,
   "id": "5fffae0c",
   "metadata": {},
   "outputs": [
    {
     "data": {
      "text/html": [
       "<pre style=\"word-wrap: normal;white-space: pre;background: #fff0;line-height: 1.1;font-family: &quot;Courier New&quot;,Courier,monospace\">     ┌─────────┐\n",
       "q_0: ┤0        ├\n",
       "     │         │\n",
       "q_1: ┤1        ├\n",
       "     │         │\n",
       "q_2: ┤2 Oracle ├\n",
       "     │         │\n",
       "q_3: ┤3        ├\n",
       "     │         │\n",
       "q_4: ┤4        ├\n",
       "     └─────────┘</pre>"
      ],
      "text/plain": [
       "     ┌─────────┐\n",
       "q_0: ┤0        ├\n",
       "     │         │\n",
       "q_1: ┤1        ├\n",
       "     │         │\n",
       "q_2: ┤2 Oracle ├\n",
       "     │         │\n",
       "q_3: ┤3        ├\n",
       "     │         │\n",
       "q_4: ┤4        ├\n",
       "     └─────────┘"
      ]
     },
     "execution_count": 8,
     "metadata": {},
     "output_type": "execute_result"
    }
   ],
   "source": [
    "oracle(n).draw()"
   ]
  },
  {
   "cell_type": "code",
   "execution_count": 9,
   "id": "17947038",
   "metadata": {},
   "outputs": [],
   "source": [
    "def diffuser(n):\n",
    "    qc = QuantumCircuit(n, name=\"Diffuser\")\n",
    "    qubits = [i for i in range(n)]\n",
    "    qc.h(qubits)\n",
    "    qc.x(qubits)\n",
    "    qc.barrier()\n",
    "    qc.h(n-1)\n",
    "    qc.mct(qubits[:n-1],n-1)\n",
    "    qc.h(n-1)\n",
    "    qc.barrier()\n",
    "    qc.x(qubits)\n",
    "    qc.h(qubits)\n",
    "    return qc"
   ]
  },
  {
   "cell_type": "code",
   "execution_count": 10,
   "id": "d7a52df2",
   "metadata": {},
   "outputs": [
    {
     "data": {
      "text/html": [
       "<pre style=\"word-wrap: normal;white-space: pre;background: #fff0;line-height: 1.1;font-family: &quot;Courier New&quot;,Courier,monospace\">     ┌───┐┌───┐ ░                 ░ ┌───┐┌───┐\n",
       "q_0: ┤ H ├┤ X ├─░────────■────────░─┤ X ├┤ H ├\n",
       "     ├───┤├───┤ ░        │        ░ ├───┤├───┤\n",
       "q_1: ┤ H ├┤ X ├─░────────■────────░─┤ X ├┤ H ├\n",
       "     ├───┤├───┤ ░        │        ░ ├───┤├───┤\n",
       "q_2: ┤ H ├┤ X ├─░────────■────────░─┤ X ├┤ H ├\n",
       "     ├───┤├───┤ ░        │        ░ ├───┤├───┤\n",
       "q_3: ┤ H ├┤ X ├─░────────■────────░─┤ X ├┤ H ├\n",
       "     ├───┤├───┤ ░ ┌───┐┌─┴─┐┌───┐ ░ ├───┤├───┤\n",
       "q_4: ┤ H ├┤ X ├─░─┤ H ├┤ X ├┤ H ├─░─┤ X ├┤ H ├\n",
       "     └───┘└───┘ ░ └───┘└───┘└───┘ ░ └───┘└───┘</pre>"
      ],
      "text/plain": [
       "     ┌───┐┌───┐ ░                 ░ ┌───┐┌───┐\n",
       "q_0: ┤ H ├┤ X ├─░────────■────────░─┤ X ├┤ H ├\n",
       "     ├───┤├───┤ ░        │        ░ ├───┤├───┤\n",
       "q_1: ┤ H ├┤ X ├─░────────■────────░─┤ X ├┤ H ├\n",
       "     ├───┤├───┤ ░        │        ░ ├───┤├───┤\n",
       "q_2: ┤ H ├┤ X ├─░────────■────────░─┤ X ├┤ H ├\n",
       "     ├───┤├───┤ ░        │        ░ ├───┤├───┤\n",
       "q_3: ┤ H ├┤ X ├─░────────■────────░─┤ X ├┤ H ├\n",
       "     ├───┤├───┤ ░ ┌───┐┌─┴─┐┌───┐ ░ ├───┤├───┤\n",
       "q_4: ┤ H ├┤ X ├─░─┤ H ├┤ X ├┤ H ├─░─┤ X ├┤ H ├\n",
       "     └───┘└───┘ ░ └───┘└───┘└───┘ ░ └───┘└───┘"
      ]
     },
     "execution_count": 10,
     "metadata": {},
     "output_type": "execute_result"
    }
   ],
   "source": [
    "diffuser(n).draw()"
   ]
  },
  {
   "cell_type": "code",
   "execution_count": 11,
   "id": "810f5691",
   "metadata": {
    "scrolled": true
   },
   "outputs": [
    {
     "data": {
      "text/html": [
       "<pre style=\"word-wrap: normal;white-space: pre;background: #fff0;line-height: 1.1;font-family: &quot;Courier New&quot;,Courier,monospace\">        ┌───┐┌─────────┐┌───────────┐┌─────────┐┌───────────┐ ░ ┌─┐            \n",
       "   q_0: ┤ H ├┤0        ├┤0          ├┤0        ├┤0          ├─░─┤M├────────────\n",
       "        ├───┤│         ││           ││         ││           │ ░ └╥┘┌─┐         \n",
       "   q_1: ┤ H ├┤1        ├┤1          ├┤1        ├┤1          ├─░──╫─┤M├─────────\n",
       "        ├───┤│         ││           ││         ││           │ ░  ║ └╥┘┌─┐      \n",
       "   q_2: ┤ H ├┤2 Oracle ├┤2 Diffuser ├┤2 Oracle ├┤2 Diffuser ├─░──╫──╫─┤M├──────\n",
       "        ├───┤│         ││           ││         ││           │ ░  ║  ║ └╥┘┌─┐   \n",
       "   q_3: ┤ H ├┤3        ├┤3          ├┤3        ├┤3          ├─░──╫──╫──╫─┤M├───\n",
       "        ├───┤│         ││           ││         ││           │ ░  ║  ║  ║ └╥┘┌─┐\n",
       "   q_4: ┤ H ├┤4        ├┤4          ├┤4        ├┤4          ├─░──╫──╫──╫──╫─┤M├\n",
       "        └───┘└─────────┘└───────────┘└─────────┘└───────────┘ ░  ║  ║  ║  ║ └╥┘\n",
       "meas: 5/═════════════════════════════════════════════════════════╩══╩══╩══╩══╩═\n",
       "                                                                 0  1  2  3  4 </pre>"
      ],
      "text/plain": [
       "        ┌───┐┌─────────┐┌───────────┐┌─────────┐┌───────────┐ ░ ┌─┐            \n",
       "   q_0: ┤ H ├┤0        ├┤0          ├┤0        ├┤0          ├─░─┤M├────────────\n",
       "        ├───┤│         ││           ││         ││           │ ░ └╥┘┌─┐         \n",
       "   q_1: ┤ H ├┤1        ├┤1          ├┤1        ├┤1          ├─░──╫─┤M├─────────\n",
       "        ├───┤│         ││           ││         ││           │ ░  ║ └╥┘┌─┐      \n",
       "   q_2: ┤ H ├┤2 Oracle ├┤2 Diffuser ├┤2 Oracle ├┤2 Diffuser ├─░──╫──╫─┤M├──────\n",
       "        ├───┤│         ││           ││         ││           │ ░  ║  ║ └╥┘┌─┐   \n",
       "   q_3: ┤ H ├┤3        ├┤3          ├┤3        ├┤3          ├─░──╫──╫──╫─┤M├───\n",
       "        ├───┤│         ││           ││         ││           │ ░  ║  ║  ║ └╥┘┌─┐\n",
       "   q_4: ┤ H ├┤4        ├┤4          ├┤4        ├┤4          ├─░──╫──╫──╫──╫─┤M├\n",
       "        └───┘└─────────┘└───────────┘└─────────┘└───────────┘ ░  ║  ║  ║  ║ └╥┘\n",
       "meas: 5/═════════════════════════════════════════════════════════╩══╩══╩══╩══╩═\n",
       "                                                                 0  1  2  3  4 "
      ]
     },
     "execution_count": 11,
     "metadata": {},
     "output_type": "execute_result"
    }
   ],
   "source": [
    "# Building the Quantum Circuit\n",
    "qc = QuantumCircuit(n)\n",
    "qubits = [i for i in range(n)]\n",
    "steps = 2\n",
    "\n",
    "qc.h(qubits)\n",
    "for i in range(steps):\n",
    "    qc.append(oracle(n),qubits)\n",
    "    qc.append(diffuser(n),qubits)\n",
    "qc.measure_all()\n",
    "qc.draw()"
   ]
  },
  {
   "cell_type": "code",
   "execution_count": 12,
   "id": "efe44c0e",
   "metadata": {},
   "outputs": [
    {
     "data": {
      "image/png": "[encoded data removed]",
      "text/plain": [
       "<Figure size 700x500 with 1 Axes>"
      ]
     },
     "execution_count": 12,
     "metadata": {},
     "output_type": "execute_result"
    }
   ],
   "source": [
    "# Plotting the results\n",
    "sim = Aer.get_backend('aer_simulator')\n",
    "qc = transpile(qc, sim)\n",
    "qobj = assemble(qc)\n",
    "results = sim.run(qobj).result()\n",
    "counts = results.get_counts()\n",
    "plot_histogram(counts)"
   ]
  },
  {
   "cell_type": "code",
   "execution_count": 13,
   "id": "16401049",
   "metadata": {},
   "outputs": [
    {
     "name": "stdout",
     "output_type": "stream",
     "text": [
      "The Solutions are :  ['11110', '11001', '11010', '11011', '11000']\n"
     ]
    }
   ],
   "source": [
    "# Extracting the Solutions\n",
    "keys = list(counts.keys())\n",
    "values = list(counts.values())\n",
    "soln = []\n",
    "for i in range(len(keys)):\n",
    "    if values[i] >= 100:\n",
    "        soln.append(keys[i])\n",
    "print('The Solutions are : ',soln)"
   ]
  }
 ],
 "metadata": {
  "kernelspec": {
   "display_name": "Python 3 (ipykernel)",
   "language": "python",
   "name": "python3"
  },
  "language_info": {
   "codemirror_mode": {
    "name": "ipython",
    "version": 3
   },
   "file_extension": ".py",
   "mimetype": "text/x-python",
   "name": "python",
   "nbconvert_exporter": "python",
   "pygments_lexer": "ipython3",
   "version": "3.9.13"
  }
 },
 "nbformat": 4,
 "nbformat_minor": 5
}
